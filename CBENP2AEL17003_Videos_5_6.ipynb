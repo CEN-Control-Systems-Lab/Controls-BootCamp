{
 "cells": [
  {
   "cell_type": "markdown",
   "metadata": {},
   "source": [
    " # Controllability, Reachability, and Eigenvalue Placement (Video No:6)\n",
    "\n"
   ]
  },
  {
   "cell_type": "markdown",
   "metadata": {},
   "source": [
    "<h3>Equivalences of Controllability :</h3>\n",
    "\n",
    "<h5>1. System is controllable </h5>\n",
    "\n",
    "\n",
    "\n",
    "\n"
   ]
  },
  {
   "cell_type": "markdown",
   "metadata": {},
   "source": [
    "<h5>2. Arbitrary eigen value(pole) placement</h5>\n",
    "\n",
    "\n",
    "\n",
    "$\n",
    "U = -KX \n",
    "$\n",
    "which means $\n",
    "\\dot X = (A - Bk)X\n",
    "$\n",
    "(A - Bk) is arbitrary eigs\n",
    "\n",
    "\n",
    "<h5>MATLAB COMMAND:</h5>\n",
    "\n",
    "K=place(A,B,eigs)\n"
   ]
  },
  {
   "cell_type": "markdown",
   "metadata": {},
   "source": [
    "<h5>3. Reachability</h5>\n",
    "\n",
    "Reachable set R_t={$\\zeta$ $\\epsilon$ $R_n$  (there is an input U(t) so that X(t)=$\\zeta$ )}\n",
    "\n",
    "$R_t$=$R_n$"
   ]
  },
  {
   "cell_type": "code",
   "execution_count": 1,
   "metadata": {
    "collapsed": false
   },
   "outputs": [
    {
     "data": {
      "text/html": [
       "\n",
       "'<iframe width=\"560\" height=\"315\" src=\"https://www.youtube.com/embed/FLByezr38Ps\" frameborder=\"0\" allow=\"autoplay; encrypted-media\" allowfullscreen></iframe>"
      ],
      "text/plain": [
       "<IPython.core.display.HTML object>"
      ]
     },
     "metadata": {},
     "output_type": "display_data"
    }
   ],
   "source": [
    "%%HTML\n",
    "\n",
    "'<iframe width=\"560\" height=\"315\" src=\"https://www.youtube.com/embed/FLByezr38Ps\" frameborder=\"0\" allow=\"autoplay; encrypted-media\" allowfullscreen></iframe>"
   ]
  },
  {
   "cell_type": "code",
   "execution_count": null,
   "metadata": {
    "collapsed": true
   },
   "outputs": [],
   "source": []
  }
 ],
 "metadata": {
  "anaconda-cloud": {},
  "kernelspec": {
   "display_name": "Python [conda root]",
   "language": "python",
   "name": "conda-root-py"
  },
  "language_info": {
   "codemirror_mode": {
    "name": "ipython",
    "version": 3
   },
   "file_extension": ".py",
   "mimetype": "text/x-python",
   "name": "python",
   "nbconvert_exporter": "python",
   "pygments_lexer": "ipython3",
   "version": "3.5.2"
  }
 },
 "nbformat": 4,
 "nbformat_minor": 1
}
