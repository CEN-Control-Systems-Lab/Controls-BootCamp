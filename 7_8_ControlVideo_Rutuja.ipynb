{
 "cells": [
  {
   "cell_type": "markdown",
   "metadata": {},
   "source": [
    "**Rutuja Athavale<br>\n",
    "CB.EN.P2ael17004<br>\n",
    "Control Bootcamp videos 7,8**"
   ]
  },
  {
   "cell_type": "markdown",
   "metadata": {},
   "source": [
    "# INTRODUCTION\n",
    "\n",
    "Until now we have seen the linera system of equations given by:\n",
    "\\begin{equation}\n",
    "\\dot{X}=Ax+Bu           \\quad\\quad\\ X\\in R^{n} \\quad\\quad\\quad\\quad\\quad\\quad\\quad\\quad\\quad\\quad\\ (1)                 \n",
    "\\end{equation}\n",
    "And we also saw some conditions under which the above equation is controllable.<br>\n",
    "The controllability matrix is given by:\n",
    "\\begin{equation}\n",
    "C=\\begin{bmatrix}B & AB & A^{2}B.....& A^{n-1}B \\\\ \\end{bmatrix}\n",
    "\\end{equation}\n",
    "In an 'n' dimentional system if the controllability matrix has all independent columns then the system is controllable i.e<br>\n",
    "Iff rank(C) = n then the system is controllable.where 'n' is the dimension of state space."
   ]
  },
  {
   "cell_type": "markdown",
   "metadata": {},
   "source": [
    "<iframe width=\"642\" height=\"361\" src=\"https://www.youtube.com/embed/tnsWsMwYbEU?list=PLMrJAkhIeNNR20Mz-VpzgfQs5zrYi085m\" frameborder=\"0\" allow=\"autoplay; encrypted-media\" allowfullscreen></iframe>"
   ]
  },
  {
   "cell_type": "markdown",
   "metadata": {},
   "source": [
    "# CONTROLLABILITY AND DISCRETE TIME IMPULSE RESPONSE\n",
    "In discrete time, consider the equation:\n",
    "\\begin{equation}\n",
    "X_{k+1}=Ax_{k}+Bu_{k} \n",
    "\\end{equation}\n",
    "Where A,B are discrete time mitrices.<br>\n",
    "**Impulse Response**<br>\n",
    "Finding the impulse response actually means that we are going to kick the system in 'u' direction and assume that 'u' is a single input channel.\n",
    "\\begin{equation}\n",
    "u_{0}=1\n",
    "\\end{equation}\n",
    "\\begin{equation}\n",
    "u_{1}=0\n",
    "\\end{equation}\n",
    "\\begin{equation}\n",
    "u_{2}=0\n",
    "\\end{equation}\n",
    "\\begin{equation}\n",
    "u_{3}=0\n",
    "\\end{equation}\n",
    "\\begin{equation}\n",
    "u_{m}=0\n",
    "\\end{equation}\n",
    "\n",
    "And measure what happens to 'X'. So we want to know if the input rings through the system and touches every state in the state space.\n",
    "\\begin{equation}\n",
    "X_{0}=0\n",
    "\\end{equation}\n",
    "\\begin{equation}\n",
    "X_{1}=B\n",
    "\\end{equation}\n",
    "\\begin{equation}\n",
    "X_{2}=AB\n",
    "\\end{equation}\n",
    "\\begin{equation}\n",
    "X_{3}=A^{2}B\n",
    "\\end{equation}\n",
    "\\begin{equation}\n",
    "X_{m}=A^{m-1}B\n",
    "\\end{equation}\n",
    "\n",
    "- This is the space that control can affect. \n",
    "- It gives some intution for why the controllability matrix is important.\n",
    "- It gives an analogy of impulse responsein discrete time and how the states that are reachable with conltrol are going to be in the above subspace.\n",
    "- For example if you have a physical system like an inverted pendulum and hit it with a hammer i.e with an impulse in 'u' and it rings through the system. And there are some directions in state space that are not touched by that B input, then there is no way that you can possibly reach them with control. There will be some states in the state space that are not controllable. That is they will be perpendicular to the space that can be hit with control.<br>\n",
    "- Mostly in real experiments there may be some continuous time dynamics but in practice what you do is measure it at a fixed delta 'T' in time. So if you stack it into a matrix, you can esentially see which directions in state space are reached by an impulse in your system.<br>"
   ]
  },
  {
   "cell_type": "markdown",
   "metadata": {},
   "source": [
    "<iframe width=\"642\" height=\"361\" src=\"https://www.youtube.com/embed/ZNHx62HbKNA?list=PLMrJAkhIeNNR20Mz-VpzgfQs5zrYi085m\" frameborder=\"0\" allow=\"autoplay; encrypted-media\" allowfullscreen></iframe>"
   ]
  },
  {
   "cell_type": "markdown",
   "metadata": {},
   "source": [
    "## DEGREES OF CONTROLLABILITY AND GRAMIANS\n",
    "\n",
    "- We know that if the controllability matrix is a all rank matrix and the rank is equal to 'n', where 'n' is the dimension of state space, then the system is controllable.\n",
    "- But this is only a binary condition like is controllable or not controllable. We do not know in what way the system is not controllable.\n",
    "- In practice there are more useful and richer measures of controllability that tell how controllable are different directions in the state space. One of them is the Controllability Gramian. \n",
    "- The solution of eq.(1) in absence of control if it had an initial condition will be:\n",
    "\\begin{equation}\n",
    "X(t)=e^{At}X(0)\n",
    "\\end{equation}\n",
    "- In absence of initial condition if we just had control then the equation will be:\n",
    "\n",
    "\\begin{equation}\n",
    "X(t)=e^{At}X(0)+\\int_{0}^{t} e^{A(t-\\tau)}Bu(\\tau)d\\tau\n",
    "\\end{equation}\n",
    "### **Controllability Gramian:**\n",
    "\\begin{equation}\n",
    "W_{t}=\\int_{0}^{t} e^{A\\tau}BB^{'}e^{A'\\tau}d\\tau       \\quad\\quad \\in R^{n*n}  \\quad\\quad\\quad\\quad(2)\n",
    "\\end{equation}\n",
    "\n",
    "- We assume that 'A' and 'B' are real valued and symmetric mattrices, hence eq.(2) is going to have positive real eigen values.\n",
    "- The eigen decomposition of eq.(2) is given by:\n",
    "\n",
    "\\begin{equation}\n",
    "W_{t}\\xi=\\lambda\\xi     \\quad\\quad\\quad\\quad\\quad\\quad\\quad\\quad\\quad\\quad\\quad\\quad\\quad\\quad(3)\n",
    "\\end{equation}\n",
    "- You can list the eigen values of the gramian from biggest eigen value down to the smallest eigen value which are all non negative.\n",
    "- The eigen vectors corresponding to the biggest eigen values are the most controllable directions in state space i.e you can go further in those directions on the same amount of input energy.\n",
    "- **For discrete time systems mostly:**\n",
    "\\begin{equation}\n",
    "W_{t}\\approx CC^{'} \\quad\\quad\\quad\\quad\\quad\\quad\\quad\\quad\\quad\\quad\\quad\\quad\\quad(4)\n",
    "\\end{equation}\n",
    "- The eigen values and eigen vectors of (4) are same as the singular vectors and singular values of 'C' (controllability matrix.\n",
    "\n",
    "- Let us write down the SVD of the controllability matrix for example using a single command in MATLAB:<br>\n",
    "**>>[U,E,V] = svd('C',\"econ')**               \n",
    "- The biggest eigen values in (3) are the singular values squared in the SVD of the controllability matrix.\n",
    "- The eigen vectors in (3) are the left singular vectors i.e they are the columns of 'U'.\n",
    "\n",
    "- So now insted of just a binary output, we get an ordered list of directions that are most controllable.\n",
    " - First column of 'U' is the most controllable direction\n",
    " - Second column of 'U' is the second most controllable direction and so on to the least controllable direction.\n",
    " \n",
    "\n",
    "### **Summary**\n",
    "- Controllability is not just YES or NO, there are degrees of controllability which are different in different directionsof state space.\n",
    "- Some directions are easy to go in and some are harder. We can find those directions by finding the SVD of the controllability matrix.\n",
    "- Mathematically they are the eigen vectors of the controllability gramian.\n",
    "\n",
    "### **Stabalizability**\n",
    "- A system is stabalizable if all its unstable directions are controllable.\n",
    "- That is a system is stabalizable if and only if all the unstable and lightly coupled eigen vectors of 'A' are in the contolability subspace(in column space of 'C').\n",
    "- This means we cannot control entire 'n' but we can control whatever is unstable."
   ]
  }
 ],
 "metadata": {
  "kernelspec": {
   "display_name": "Python 3",
   "language": "python",
   "name": "python3"
  },
  "language_info": {
   "codemirror_mode": {
    "name": "ipython",
    "version": 3
   },
   "file_extension": ".py",
   "mimetype": "text/x-python",
   "name": "python",
   "nbconvert_exporter": "python",
   "pygments_lexer": "ipython3",
   "version": "3.6.1"
  }
 },
 "nbformat": 4,
 "nbformat_minor": 2
}
