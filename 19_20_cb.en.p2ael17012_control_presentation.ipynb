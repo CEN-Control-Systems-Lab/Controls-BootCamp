{
 "cells": [
  {
   "cell_type": "markdown",
   "metadata": {},
   "source": [
    "# Observability Pendulum Example in Matlab"
   ]
  },
  {
   "cell_type": "markdown",
   "metadata": {},
   "source": [
    "<html>\n",
    "<head>\n",
    "<style>\n",
    "p.a {\n",
    "    font face=\"Times New Roman\" font size=\"14\" color=\"black\";\n",
    "}\n",
    "\n",
    "</style>\n",
    "</head>\n",
    "<body>\n",
    "<p class = \"a\"> \n",
    " \n",
    " A system is said to be observable at time t0 if, with the system in state X(t0) ,it is possible to determine this state from the observation of the output over a finite interval of time.</p>"
   ]
  },
  {
   "cell_type": "markdown",
   "metadata": {},
   "source": [
    "## Observability depends upon the system matrix A and the output matrix C\n",
    "\n"
   ]
  },
  {
   "cell_type": "markdown",
   "metadata": {},
   "source": [
    "<html>\n",
    "<head>\n",
    "<style>\n",
    "p.a {\n",
    "    font face=\"Times New Roman\" font size=\"14\" color=\"black\";\n",
    "}\n",
    "\n",
    "</style>\n",
    "</head>\n",
    "<body>\n",
    "<p class = \"a\"> \n",
    "\\begin{align}\\\\\n",
    "\\ linearize\\ dynamic\\ equation\\ dot{X}&=(AX+BU) \\\\\n",
    "\\ Output\\ equation\\ Y = CX+DU \\\\\n",
    "\\ but\\ D---> 0\\ for\\ obsevability\\ system\\ so\\ DU=0\\\\\n",
    "\\end{align}\n",
    "\\begin{align}\n",
    "where\\ A\\ is\\ 4x4\\ linear\\ matrix \\\\\n",
    "     B\\ is\\ 4x1\\ column\\ matrix  \\\\\n",
    "     U\\ is\\ Input\\ force\n",
    "       \\end{align}</p>\n"
   ]
  },
  {
   "cell_type": "markdown",
   "metadata": {},
   "source": [
    "### Observability Matrix Nature form\n",
    "\n",
    "      ob = [C     ]\n",
    "           |CA    | \n",
    "           |CA^2  | \n",
    "           |:     |\n",
    "           [CA^n-1] \n",
    "\n"
   ]
  },
  {
   "cell_type": "markdown",
   "metadata": {},
   "source": [
    "# Syntex\n",
    "\n",
    "<html>\n",
    "<head>\n",
    "<style>\n",
    "p.a {\n",
    "    font face=\"Times New Roman\" font size=\"14\" color=\"black\";\n",
    "}\n",
    "\n",
    "</style>\n",
    "</head>\n",
    "<body>\n",
    "<p class = \"a\"> \n",
    "* obsv(A,C), \n",
    "* det(obs(A,C)),\n",
    "* sys(A,B,C,D),\n",
    "* det(gram(sys,'o'))</p>\n"
   ]
  },
  {
   "cell_type": "markdown",
   "metadata": {},
   "source": [
    "## Description\n",
    "\n",
    "<html>\n",
    "<head>\n",
    "<style>\n",
    "p.a {\n",
    "    font face=\"Times New Roman\" font size=\"14\" color=\"black\";\n",
    "}\n",
    "\n",
    "</style>\n",
    "</head>\n",
    "<body>\n",
    "<p class = \"a\"> \n",
    "obsv(A,C) ----> will check the nature of matrix (A,C)\n",
    "                *obsv computes the observability matrix for state-space systems. For an n-by-n matrix A and a p-by-n                  matrix C, obsv(A,C) returns the observability matrix\n",
    " det(obs(A,C))----> check determinant of matix(A,C) to know the matrix is linearly independent or not\n",
    "                   * If it is linearly independent then the system is observable.\n",
    "                   * If the determinant is zero its mean system is not observable.\n",
    "sys=ss(A,B,C,D)-----> State-space systems can be represented in MATLAB using the 4 system matrices, A, B, C,                                           and D. We can create a system data structure using the ss function.</p>"
   ]
  },
  {
   "cell_type": "markdown",
   "metadata": {},
   "source": [
    "<html>\n",
    "<head>\n",
    "<style>\n",
    "p.a {\n",
    "    font face=\"Times New Roman\" font size=\"14\" color=\"black\";\n",
    "}\n",
    "\n",
    "</style>\n",
    "</head>\n",
    "<body>\n",
    "<p class = \"a\"> det(gram(sys,'o')) ------>calculates the observability Gramian of the ss model sys.</p>"
   ]
  },
  {
   "cell_type": "markdown",
   "metadata": {},
   "source": [
    "# MATLAB CODE"
   ]
  },
  {
   "cell_type": "code",
   "execution_count": null,
   "metadata": {},
   "outputs": [],
   "source": [
    "m =1;\n",
    "M = 5;\n",
    "L = 2;\n",
    "g = -10;\n",
    "d = 1;\n",
    "\n",
    "s = 1;\n",
    "\n",
    " A = [ 0 1 0 0;\n",
    "       0 -d/M -m*g/M 0;\n",
    "       0 0 0 1;\n",
    "       0 -s*d/(M*L) -s*(m+M)*g/(M*L) 0];\n",
    "   B = [0; 1/M; 0; s*1/(M*L)];\n",
    "   \n",
    "  % C = [1 0 0 0]; %check observability on x\n",
    "   \n",
    "  C = [0 1 0 0]  % check observability on theta\n",
    "   \n",
    "  obsv(A,C); % check the nature of the observability matrix\n",
    "  \n",
    "   det(obsv(A,C)); %check determinent of matrix(a,c) to know that matrix is linearly independent or not. "
   ]
  },
  {
   "cell_type": "markdown",
   "metadata": {},
   "source": [
    "## Now check further if any element of the C matrix is not observable\n",
    "<html>\n",
    "<head>\n",
    "<style>\n",
    "p.a {\n",
    "    font face=\"Times New Roman\" font size=\"14\" color=\"black\";\n",
    "}\n",
    "\n",
    "</style>\n",
    "</head>\n",
    "<body>\n",
    "<p class = \"a\"> \n",
    "* In this case, x is the element which is not usefull for the observability\n",
    "* Then we will omit the x element from the matrix C\n",
    "*  Gramiem command is used to know the obsevability volume of the state space system</p>"
   ]
  },
  {
   "cell_type": "code",
   "execution_count": null,
   "metadata": {},
   "outputs": [],
   "source": [
    "clear all, close all,clc\n",
    "m =1;\n",
    "M = 5;\n",
    "L = 2;\n",
    "g = -10;\n",
    "d = 1;\n",
    "\n",
    "s = -1;\n",
    "\n",
    "%Which measurements are best if we omit \"x\"\n",
    " \n",
    "  A = [ 0 1 0 0;\n",
    "       0 -d/M -m*g/M 0;\n",
    "       0 0 0 1;\n",
    "       0 -s*d/(M*L) -s*(m+M)*g/(M*L) 0];\n",
    "   B = [0; 1/M; 0; s*1/(M*L)];\n",
    "  A = A(2:end,2:end);\n",
    "  B = B(2:end);\n",
    "  C = [1 0 0]; % measure x dot---det(obsv(A,C)) =50\n",
    "  %C = [0 1 0]; % measure theta ---det(obsv(A,C)) =0.0313\n",
    "  % C = [0 0 1]; % measure theta dot-- det(obsv(A,C)) =0.0313\n",
    "   D = zeros(size(C,1),size(B,2));\n",
    "   sys = ss(A,B,C,D);\n",
    "   det(gram(sys,'o'))\n",
    "  \n",
    "  % det(obsv(A,C));"
   ]
  },
  {
   "cell_type": "markdown",
   "metadata": {},
   "source": [
    "## Reference Videos"
   ]
  },
  {
   "cell_type": "markdown",
   "metadata": {},
   "source": [
    "<iframe width=\"640\" height=\"360\" src=\"https://www.youtube.com/embed/XBI_hQRqMvM?list=PLMrJAkhIeNNR20Mz-VpzgfQs5zrYi085m\" frameborder=\"0\" allow=\"autoplay; encrypted-media\" allowfullscreen></iframe>"
   ]
  },
  {
   "cell_type": "markdown",
   "metadata": {},
   "source": [
    "<iframe width=\"640\" height=\"360\" src=\"https://www.youtube.com/embed/DLytfA10RR8?list=PLMrJAkhIeNNR20Mz-VpzgfQs5zrYi085m\" frameborder=\"0\" allow=\"autoplay; encrypted-media\" allowfullscreen></iframe>"
   ]
  },
  {
   "cell_type": "code",
   "execution_count": null,
   "metadata": {},
   "outputs": [],
   "source": []
  }
 ],
 "metadata": {
  "kernelspec": {
   "display_name": "Python 3",
   "language": "python",
   "name": "python3"
  },
  "language_info": {
   "codemirror_mode": {
    "name": "ipython",
    "version": 3
   },
   "file_extension": ".py",
   "mimetype": "text/x-python",
   "name": "python",
   "nbconvert_exporter": "python",
   "pygments_lexer": "ipython3",
   "version": "3.6.5"
  }
 },
 "nbformat": 4,
 "nbformat_minor": 2
}
