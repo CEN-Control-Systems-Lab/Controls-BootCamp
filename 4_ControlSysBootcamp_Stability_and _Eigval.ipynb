{
 "cells": [
  {
   "cell_type": "markdown",
   "metadata": {},
   "source": [
    "<h2 style=\"font-family:timesnewroman; font-size:14pt; text-align:right\">CB.ENP2AEL17002</h2>\n",
    "<h2 style=\"font-family:timesnewroman; font-size:14pt; text-align:right\">Anjali Mukherjee</h2>\n",
    "\n",
    "<p style=\"font-family:timesnewroman; font-size:24pt; text-align:center; font-weight:bold\">Control System Bootcamp Video 3</p>"
   ]
  },
  {
   "cell_type": "code",
   "execution_count": 1,
   "metadata": {},
   "outputs": [
    {
     "data": {
      "text/html": [
       "\n",
       "<iframe width=\"560\" height=\"315\" src=\"https://www.youtube.com/embed/h7nJ6ZL4Lf0\" frameborder=\"0\" allow=\"autoplay; encrypted-media\" allowfullscreen></iframe>\n",
       "  \n",
       "</iframe>\n"
      ],
      "text/plain": [
       "<IPython.core.display.HTML object>"
      ]
     },
     "execution_count": 1,
     "metadata": {},
     "output_type": "execute_result"
    }
   ],
   "source": [
    "from IPython.display import HTML\n",
    "HTML(\"\"\"\n",
    "<iframe width=\"560\" height=\"315\" src=\"https://www.youtube.com/embed/h7nJ6ZL4Lf0\" frameborder=\"0\" allow=\"autoplay; encrypted-media\" allowfullscreen></iframe>\n",
    "  \n",
    "</iframe>\n",
    "\"\"\")"
   ]
  },
  {
   "cell_type": "markdown",
   "metadata": {},
   "source": [
    "<h1 style=\"font-family:timesnewroman\">Stability and Eigen Values</h1>\n",
    "\n",
    "<h2 style=\"font-family:timesnewroman\">Recap: </h2>\n",
    "\n",
    "<ul style=\"font-family:timesnewroman; font-size:14pt\"><li>Equation of a system: <br><br><center> $ \\dot X = AX , X \\epsilon R^n $</center></li>\n",
    "<li>Solution: <br><br><center> $X(t) = e^{At}X(0)$</center><br></li>\n",
    "<li>Taylor series expansion of $e^At$: <br><br><center>$e^At = I + At+ \\frac{A^2t^2}{2!}+\\frac{A^3t^3}{3!}+...$</center><br></li>\n",
    "<li>A in terms of its eigen values and eigen vectors: <br><br> <center> $ A= TDT^{-1}$</center><br></li>\n",
    "<li>Writing X in terms of eigen vectors: <br><br> <center> $ X = Tz$</center><br><br> <center> $\\dot X = T\\dot z$</center> <br><br> <center> $ \\dot z = Dz$</center><br></li>\n",
    "\n",
    "<li>It is simple to see the system dynamics if the system equation is broken down into eigen values and eigen vectors.<br><br>\n",
    "<center>$e^{At} = e^{TDT^{-1}} = TT^{-1}+TDT^{-1}+ (TDT^{-1}TDT^{-1})\\frac{t^2}{2!}+... = Te^{Dt}T^{-1}$<br><br>$\\begin{equation}X(t) = Te^{Dt}T^{-1}X(0)\\end{equation}$ <br><br> $D = \\begin{bmatrix}\\lambda_1 & 0 & ...&0 \\\\0 &\\lambda_2 & ... & 0 \\\\ \\vdots & \\vdots &\\ddots &\\vdots\\\\  0 & 0&... &\\lambda_n  \\end{bmatrix}$</center></li>\n",
    "<li>Easy to compute $e^{Dt}$ and $T$ can be computed as shown in below code.</li>"
   ]
  },
  {
   "cell_type": "code",
   "execution_count": 4,
   "metadata": {},
   "outputs": [
    {
     "name": "stdout",
     "output_type": "stream",
     "text": [
      "T =  [[-0.56730355 -0.82570297 -0.28510867]\n",
      " [-0.47420984  0.26890404 -0.76169163]\n",
      " [-0.67326942  0.49588832  0.58184096]] \n",
      "\n",
      " D =  [[ 6.23216886  0.          0.        ]\n",
      " [ 0.         -1.45302863  0.        ]\n",
      " [ 0.          0.          0.22085977]]\n"
     ]
    }
   ],
   "source": [
    "import numpy as np\n",
    "A = np.array([[1, 2, 3], [2, 1, 2], [3, 1, 3]])\n",
    "d, T = np.linalg.eig(A)\n",
    "D= np.diag(d) \n",
    "print(\"T = \",T,\"\\n\\n\",\"D = \",D)"
   ]
  },
  {
   "cell_type": "markdown",
   "metadata": {},
   "source": [
    "<h1 style=\"font-family:timesnewroman\">Stability of Continuous Time Systems:</h1>\n",
    "\n",
    "<p style=\"font-family:timesnewroman; font-size:14pt\">What happens to the system when time goes to infinity? Does it tend to infinity or it goes down to zero or something different happens?\n",
    "\n",
    "$e^{Dt}$ is responsible for all this. </p>\n",
    "\n",
    "<p style=\"font-family:timesnewroman; font-size:14pt; text-align:center\">$e^{Dt} = \\begin{bmatrix}e^{\\lambda_1} & 0 & ...&0 \\\\0 &e^{\\lambda_2} & ... & 0 \\\\ \\vdots & \\vdots &\\ddots &\\vdots\\\\  0 & 0&... &e^{\\lambda_n}  \\end{bmatrix}$</p>\n",
    "\n",
    "<p style=\"font-family:timesnewroman; font-size:14pt\">Depending on the eigen values, even if one component of $e^{DT}$ becomes infinity, the equation $\\begin{equation}X(t) = Te^{Dt}T^{-1}X(0)\\end{equation}$ will tend to infinity as time tends to infinity.\n",
    "\n",
    "\\begin{equation} \\lambda = a +\\imath b \\end{equation} ie., \\begin{equation} e^{\\lambda t} = e^{at}[{cos(bt) +\\imath sin (bt)}] \\end{equation}<br>\n",
    "\n",
    "If $A, X$ all are real, $ \\dot X = AX$ has real solutions.\n",
    "\n",
    "${cos(bt) +\\imath sin (bt)}$ has amplitude always less than or equal to 1. Thus $e^{at}$ decides the fate of the system as given below.</p>\n",
    "<br><br><p style=\"font-family:timesnewroman; font-size:14pt\"> When $a>0$, system blows up to infinity,\n",
    "![When $a>0$](graph1.jpg)\n",
    "<br> When $a<0$, system settles down to zero.\n",
    "![When $a>0$](graph2.jpg)\n",
    "\n",
    "i.e., All the eigen values should have negative real part for the system to be stable. Even if one of them is negative, that particular component will make the system unstable.\n",
    "\n",
    "So, in short, If we represent this graphically on the complex plane $\\lambda \\in C$, \n",
    "\n",
    "\n",
    "![stability](graph3.jpg)\n",
    "\n",
    "When the eigen values lie to the left side of the complex plane, system is stable. When they lie on the right side, system is unstable, and to make it stable we have to steer the eigen values towards left side by adding the control part into the equation (ie., equation of the system now becomes $\\dot X = AX + BU$)<br>\n",
    "\n",
    "The whole system thus can be characterized using just the eigen values.</p>\n",
    "\n",
    "\n"
   ]
  },
  {
   "cell_type": "markdown",
   "metadata": {
    "collapsed": true
   },
   "source": [
    "<h1 style=\"font-family:timesnewroman\">Stability of Discrete Time Systems</h1>\n",
    "\n",
    "<p style=\"font-family:timesnewroman; font-size:14pt\">In a physical system, data is not recorded continuously. What we get is discrete data at fixed increments of interval of time $\\Delta t$.\n",
    "\n",
    "So, we define a discrete time system with the equation given below,</p>\n",
    "\n",
    "<p style=\"font-family:timesnewroman; font-size:14pt; text-align:center\">$\\begin{equation} X_{k+1} = \\tilde A  X_k\\end{equation} $ where $X_k = X(k\\Delta t)$</p>\n",
    "\n",
    "<p style=\"font-family:timesnewroman; font-size:14pt\">The system is measured at individual $\\Delta t$ instances of time and the above equation gives an update about what state of the system would be in the next $k+1^{th}$ instant\n",
    "\n",
    "\\begin{equation} \\tilde A = e^{A\\Delta t}\\end{equation}\n",
    "\n",
    "$\\tilde A$ and $A $ are related by the exponential relation.\n",
    "\n",
    "Notion of stability is different for the discrete time systems. \n",
    "\n",
    "Assuming that the initial condition $X_0$ is known, we can define a whole set of measurements by just multiplying by $\\tilde A$ as follows.</p>\n",
    "\n",
    "<p style=\"font-family:timesnewroman; font-size:14pt;text-align:center\"><br>$X_1 = \\tilde A X_0$  <br> $X_2 = \\tilde A X_1 = \\tilde {A^2} X_0$ <br> $X_3 = \\tilde {A^3} X_0$<br> $X_4 = \\tilde {A^4} X_0$ <br> $\\vdots$<br> $X_N = \\tilde {A^N} X_0$</p>\n",
    "\n",
    "<p style=\"font-family:timesnewroman; font-size:14pt\">Like in the continuous time case, we can write $\\tilde A$ in terms of its eigen values and eigen vectors as $\\tilde T\\tilde D\\tilde T^{-1}$.\n",
    "\n",
    "We can see that, the powers only affect the diagonal matrix D, and thus in each equation, $\\lambda$, $\\lambda^2$, $\\lambda^3$,...,$\\lambda^N$ appears. </p>\n",
    "\n",
    "<p style=\"font-family:timesnewroman; font-size:14pt; text-align:center\"><br> $ \\lambda = Re^{i\\theta} $ (Representing in polar form on complex plane)\n",
    "![complex plane](graph4.jpg)\n",
    "<br><br>$\\lambda^N = R^N e^{iN\\theta}$</p>\n",
    "\n",
    "<p style=\"font-family:timesnewroman; font-size:14pt\">So, it is the radius of the eigen value that grows or shrinks. If radius $R$ is greater than 1, as N increases, R goes to infinity and the system becomes unstable. If $R$ is less than 1, the system decays to zero as N increases and becomes stable. Representing this on the complex plane, \n",
    "\n",
    "![complex unit circle](graph5.jpg)\n",
    "\n",
    "$\\begin{equation} \\tilde A = e^{A\\Delta t}\\end{equation}$ maps discrete time system to the continuous time case described above.\n",
    "\n",
    "Summarizing, in continuous as well as discrete systems, the system stability depends only on the eigen values of the system. In continuous time, if all eigen values have negative real part, the system is stable. In discrete time system, the eigen value should lie within a unit circle, that is the magnitude should be less than One, for the system to be stable.</p>\n",
    "\n",
    "\n"
   ]
  }
 ],
 "metadata": {
  "kernelspec": {
   "display_name": "Python 3",
   "language": "python",
   "name": "python3"
  },
  "language_info": {
   "codemirror_mode": {
    "name": "ipython",
    "version": 3
   },
   "file_extension": ".py",
   "mimetype": "text/x-python",
   "name": "python",
   "nbconvert_exporter": "python",
   "pygments_lexer": "ipython3",
   "version": "3.6.1"
  }
 },
 "nbformat": 4,
 "nbformat_minor": 2
}
