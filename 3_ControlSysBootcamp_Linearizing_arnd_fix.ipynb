{
 "cells": [
  {
   "cell_type": "markdown",
   "metadata": {},
   "source": [
    "<h2 style=\"font-family:timesnewroman; font-size:14pt; text-align:right\">CB.ENP2AEL17002</h2>\n",
    "<h2 style=\"font-family:timesnewroman; font-size:14pt; text-align:right\">Anjali Mukherjee</h2>\n",
    "\n",
    "<p style=\"font-family:timesnewroman; font-size:24pt; text-align:center;font-weight:bold\">Control System Bootcamp Video 4</p>"
   ]
  },
  {
   "cell_type": "code",
   "execution_count": 4,
   "metadata": {},
   "outputs": [
    {
     "data": {
      "text/html": [
       "\n",
       "<iframe width=\"560\" height=\"315\" src=\"https://www.youtube.com/embed/1YMTkELi3tE\" frameborder=\"0\" allow=\"autoplay; encrypted-media\" allowfullscreen></iframe>\n"
      ],
      "text/plain": [
       "<IPython.core.display.HTML object>"
      ]
     },
     "execution_count": 4,
     "metadata": {},
     "output_type": "execute_result"
    }
   ],
   "source": [
    "from IPython.display import HTML\n",
    "HTML(\"\"\"\n",
    "<iframe width=\"560\" height=\"315\" src=\"https://www.youtube.com/embed/1YMTkELi3tE\" frameborder=\"0\" allow=\"autoplay; encrypted-media\" allowfullscreen></iframe>\n",
    "\"\"\")"
   ]
  },
  {
   "cell_type": "markdown",
   "metadata": {},
   "source": [
    "<h1 style=\"font-family:timesnewroman; font-size:24pt\">Linearizing Around a Fixed Point</h1>\n",
    "\n",
    "<p style=\"font-family:timesnewroman; font-size:14pt\">\n",
    "\n",
    "If we have a non linear system of differential equations $\\dot X = f(X)$, how do we obtain a linear differential equation of the form $\\dot X = AX$ from it?</p>\n",
    "\n",
    "<ul><li style=\"font-family:timesnewroman; font-size:14pt\">Find fixed points: $\\bar X$ such that $f(\\bar X) = 0$\n",
    "    Example: Inverted pendulum, if it is kept perfectly vertical, pendulum up or down position, they are fixed points where there is no relative motion of the pendulum. </li>\n",
    "\n",
    "<li style=\"font-family:timesnewroman; font-size:14pt\"> Linearize about $\\bar X$, by calculating matrix of partial differential equations or the jacobian $\\frac{Df}{DX}\\mid_{\\bar X}$</li></ul>\n",
    "\n",
    "<p style=\"font-family:timesnewroman; font-size:14pt\"> For example,</p><br>\n",
    "   <p style=\"font-family:timesnewroman; font-size:14pt; text-align:center\">$\\dot {X_1} = f_1(X_1,X_2) = X_1X_2$   and,   $\\dot {X_2} = f_2(X_1,X_2)={X_1}^2 + {X_2}^2$ </p>\n",
    "    \n",
    "<br><p style=\"font-family:timesnewroman; font-size:14pt; text-align:center\">$\\frac{Df}{DX} \\mid_{\\bar X} = \\begin{bmatrix}\\frac{\\partial f_1}{\\partial X_1} & \\frac{\\partial f_1}{\\partial X_2} \\\\\\frac{\\partial f_2}{\\partial X_2} & \\frac{\\partial f_2}{\\partial X_2} \\end{bmatrix} = \\begin{bmatrix} X_2 & X_1 \\\\ 2X_1 & 2X_2 \\end{bmatrix} $<br></p>\n",
    "    \n",
    "   <p style=\"font-family:timesnewroman; font-size:14pt; text-align:center\">$\\frac{Df}{DX}\\mid_{\\bar X} = [\\frac{\\partial f_i}{\\partial X_j}]$</p>\n",
    "    \n",
    "  <p style=\"font-family:timesnewroman; font-size:14pt\">Consider a non linear function of the form in the figure. Let $\\bar X$ be the fixed point. \n",
    "  ![Non linear func](graph6.jpg)\n",
    "  \n",
    "  Changing coordinate system so that origin is at $\\bar X$</p>\n",
    "  \n",
    "  <p style=\"font-family:timesnewroman; font-size:14pt\">Taylor series expansion, $\\dot X = f(X) = f(\\bar X) + \\frac{Df}{DX}\\mid_{\\bar X}(X-\\bar X)+ \\frac{D^2f}{D^2X}\\mid_{\\bar X}(X-\\bar X)^2 + ...$\n",
    "  \n",
    "  By definition, $f(\\bar X) = 0$ and larger terms are very small as $\\Delta X$ is very small. So what remains is,\n",
    "  \n",
    "  $\\dot X = f(X) = \\frac{Df}{DX}\\mid_{\\bar X}(X-\\bar X)$\n",
    "  \n",
    "  Around the small window $\\Delta X$, the equation looks like: </p>\n",
    "  \n",
    "<p style=\"font-family:timesnewroman; font-size:14pt; text-align:center\">$\\Delta \\dot X = \\frac{Df}{DX}\\mid_{\\bar X} \\Delta X$</p><br><br>\n",
    "\n",
    "<p style=\"font-family:timesnewroman; font-size:14pt\">So now, we can roughly write the system equation about $\\bar X$ or dynamics in small interval $\\Delta X$ near $\\bar X$ as</p><br><br>\n",
    "<p style=\"font-family:timesnewroman; font-size:14pt; text-align:center\">$\\Delta \\dot X = A\\Delta X$</p><br><br>\n",
    "  \n",
    "<p style=\"font-family:timesnewroman; font-size:14pt\">If all the eigen values of the linearizaton have non zero real part, the linearization can describe the system in the neighbourhood $\\Delta X$.(Hartman Grobman theorem/Linearization theorem)</p>\n",
    "  "
   ]
  },
  {
   "cell_type": "markdown",
   "metadata": {},
   "source": [
    "<h1 style=\"font-family:timesnewroman; font-size:14pt\"> Example: Pendulum</h1>\n",
    "\n",
    "<p style=\"font-family:timesnewroman; font-size:14pt\">Equation of pendulum is given by:</p> \n",
    "\n",
    "<p style=\"font-family:timesnewroman; font-size:14pt; text-align:center\">$\\ddot \\theta = \\frac{-g}{L} sin \\theta(t)$</p>\n",
    "\n",
    "<p style=\"font-family:timesnewroman; font-size:14pt\">L is the length of the pendulum, m is mass.\n",
    "![Pendulum image](graph7.JPG)</p>\n",
    "\n",
    "\n",
    "\n",
    "<p style=\"font-family:timesnewroman; font-size:14pt\">$\\theta = 0, \\theta = \\pi$ are the fixed points.\n",
    "\n",
    "Assuming friction,</p>\n",
    "\n",
    "<p style=\"font-family:timesnewroman; font-size:14pt; text-align:center\">$\\ddot \\theta = \\frac{-g}{L} sin \\theta(t) - \\delta \\dot \\theta $</p>\n",
    "\n",
    "<p style=\"font-family:timesnewroman; font-size:14pt\">For small angles $sin(\\theta) = \\theta$. Assuming $\\frac{g}{L}\\rightarrow 1$, bringing the equation to the form $\\dot X= f(X)$</p>\n",
    "\n",
    "<p style=\"font-family:timesnewroman; font-size:14pt; text-align:center\">$\\begin{bmatrix} X_1 \\\\ X_2 \\end{bmatrix} = \\begin{bmatrix} \\theta \\\\ \\dot \\theta \\end{bmatrix}$\n",
    "\n",
    "\n",
    "$\\frac{d}{dt}\\begin{bmatrix} X_1 \\\\ X_2 \\end{bmatrix}= \\begin{bmatrix} X_2 \\\\ -sin X_1-\\delta X_2 \\end{bmatrix}$</p>\n",
    "\n",
    "\n",
    "<ol style=\"font-family:timesnewroman; font-size:14pt\"><li>Fixed points, $\\bar X = \\begin{bmatrix} 0 \\\\ 0 \\end{bmatrix}, \\begin{bmatrix} \\pi \\\\ 0 \\end{bmatrix}$</li>\n",
    "\n",
    "<li>Compute Jacobian and apply the fixed points: \n",
    "\n",
    "$\\frac{Df}{DX} \\mid_\\bar X= \\begin{bmatrix} 0 & 1 \\\\ -cos X_1 & -\\delta \\end{bmatrix}$\n",
    "\n",
    "<br>$A_d =  \\begin{bmatrix} 0 & 1 \\\\ -1 & -\\delta \\end{bmatrix}$\n",
    "\n",
    "<br>$A_u =  \\begin{bmatrix} 0 & 1 \\\\ 1 & -\\delta \\end{bmatrix}$</li></ol>\n",
    "\n",
    "<p style=\"font-family:timesnewroman; font-size:14pt; text-align:center\">$\\dot X =A_d X$<br>\n",
    "$\\dot X = A_u X$</p>\n",
    "\n",
    "<p style=\"font-family:timesnewroman; font-size:14pt\">Calculating eigen values of $A_d$ and $A_u$</p>"
   ]
  },
  {
   "cell_type": "code",
   "execution_count": 9,
   "metadata": {},
   "outputs": [
    {
     "name": "stdout",
     "output_type": "stream",
     "text": [
      "[-0.05+0.99874922j -0.05-0.99874922j] \n",
      "\n",
      "\n",
      "[ 0.95124922 -1.05124922]\n"
     ]
    }
   ],
   "source": [
    "import numpy as np\n",
    "\n",
    "d = 0.1\n",
    "A_d = np.array([[0, 1],[-1,-d]])\n",
    "A_u = np.array([[0, 1],[1 ,-d]])\n",
    "print(np.linalg.eig(A_d)[0],\"\\n\\n\")\n",
    "print(np.linalg.eig(A_u)[0])\n"
   ]
  },
  {
   "cell_type": "markdown",
   "metadata": {},
   "source": [
    "<p style=\"font-family:timesnewroman; font-size:14pt\">$A_d$ has negative real parts for all eigen values, the system is stable at fixed point $\\begin{bmatrix}0\\\\0\\end{bmatrix}$.<br><br>\n",
    "$A_u$ has a positive real part. So system is not stable at fixed point $\\begin{bmatrix}\\pi\\\\0\\end{bmatrix}$</p>"
   ]
  }
 ],
 "metadata": {
  "celltoolbar": "Raw Cell Format",
  "kernelspec": {
   "display_name": "Python 3",
   "language": "python",
   "name": "python3"
  },
  "language_info": {
   "codemirror_mode": {
    "name": "ipython",
    "version": 3
   },
   "file_extension": ".py",
   "mimetype": "text/x-python",
   "name": "python",
   "nbconvert_exporter": "python",
   "pygments_lexer": "ipython3",
   "version": "3.6.1"
  }
 },
 "nbformat": 4,
 "nbformat_minor": 2
}
