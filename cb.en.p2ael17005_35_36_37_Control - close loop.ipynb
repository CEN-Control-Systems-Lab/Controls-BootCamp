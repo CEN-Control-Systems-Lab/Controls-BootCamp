{
 "cells": [
  {
   "cell_type": "markdown",
   "metadata": {},
   "source": [
    "<h1 style=\"font-family:timesnewroman;font-size:24pt\">Close Loop Control System</h1>"
   ]
  },
  {
   "cell_type": "markdown",
   "metadata": {},
   "source": [
    "<h3 style=\"font-family:timesnewroman;font-size:18pt\">Controller Model: </h3>\n",
    "<img src=\"controller.jpg\">"
   ]
  },
  {
   "cell_type": "markdown",
   "metadata": {},
   "source": [
    "<h3 style=\"font-family:timesnewroman;font-size:18pt\">Goals of Feedback: </h3>\n",
    "<ul style=\"font-family:timesnewroman;font-size:14pt\"> \n",
    "    <li>Design Stability</li>\n",
    "    <li>Compensate Uncertainity</li> \n",
    "    <li>Rejection of Disturbance</li>\n",
    "    <li>Attenuation of Noise</li>\n",
    "</ul>"
   ]
  },
  {
   "cell_type": "markdown",
   "metadata": {},
   "source": [
    "<h3 style=\"font-family:timesnewroman;font-size:18pt\">Loop Controller model:</h3>\n",
    "<p style=\"font-family:timesnewroman;font-size:14pt\">$\n",
    "L = PK\n",
    "$<br>\n",
    "$\n",
    "y = P_d d + P K \\varepsilon\n",
    "$<br>\n",
    "$\n",
    "y = P_d d +PK\\left(r - y_m\\right)\n",
    "$<br>\n",
    "$\n",
    "y = P_d d +PK\\left(r-y-N\\right)\n",
    "$\n",
    "</p>"
   ]
  },
  {
   "cell_type": "markdown",
   "metadata": {},
   "source": [
    "<p style=\"font-family:timesnewroman;font-size:14pt\">\n",
    "$\n",
    "\\left(I + PK\\right) y = PKr +P_dd - PKN\n",
    "$\n",
    "</p>"
   ]
  },
  {
   "cell_type": "markdown",
   "metadata": {},
   "source": [
    "<p style=\"font-family:timesnewroman;font-size:14pt\">\n",
    "$\n",
    "y = \\left(I + PK\\right)^{-1}PKr + \\left(I + PK\\right)^{-1} P_dd - \\left(I + PK\\right)^{-1}PKN\n",
    "$\n",
    "</p>"
   ]
  },
  {
   "cell_type": "markdown",
   "metadata": {},
   "source": [
    "<p style=\"font-family:timesnewroman;font-size:14pt\">\n",
    "$ S = \\left(I + PK\\right)^{-1} = \\left(I + L\\right)^{-1} = $ <b>Sensitivity</b> <br>\n",
    "\n",
    "$T = \\left(I + PK\\right)^{-1} PK = \\left(I + L\\right)^{-1} L = $ <b>Complementary Sensitivity</b><br><br>\n",
    "$S + T = I$\n",
    "</p>"
   ]
  },
  {
   "cell_type": "markdown",
   "metadata": {},
   "source": [
    "<p style=\"font-family:timesnewroman;font-size:14pt\">\n",
    "Hence,<br>\n",
    "$\\varepsilon = r - y_m = Sr - SP_dd + TN$<br>\n",
    "</p>"
   ]
  },
  {
   "cell_type": "markdown",
   "metadata": {},
   "source": [
    " <ul style=\"font-family:timesnewroman;font-size:14pt\">\n",
    "     <li>We consider the external disturbance is of Low Frequency</li>\n",
    "     <li>The noise in measurement is of High frequency</li>"
   ]
  },
  {
   "cell_type": "markdown",
   "metadata": {},
   "source": [
    "<img src=\"bode.JPG\">\n",
    "<p style=\"font-family:timesnewroman;font-size:14pt\">$\\omega_c = $ <b>Cross-over Frequency</b></p> "
   ]
  },
  {
   "cell_type": "markdown",
   "metadata": {},
   "source": [
    "<p style=\"font-family:timesnewroman;font-size:14pt\">We need $\\left|S\\right|$ very small at low frequency range and $\\left|T\\right|$ very small at high frequency range</p>"
   ]
  },
  {
   "cell_type": "markdown",
   "metadata": {},
   "source": [
    "<p style=\"font-family:timesnewroman;font-size:14pt\"> For integral form of $L$, $L = PK = \\frac{const.}{S}$<br><br>\n",
    "$\\dot x = -x+u$ and $y = x$<br><br>\n",
    "Takeing Laplace transform we get,<br>\n",
    "$SX\\left(S\\right) = -X\\left(S\\right) + U\\left(S\\right)$ and $Y\\left(S\\right) = X\\left(S\\right)$<br><br>\n",
    "$P = \\frac{Y\\left(S\\right)}{U\\left(S\\right)} = \\frac{1}{S+1}$\n",
    "$$\n",
    "K = \\frac{const.\\left(S+1\\right)}{S}\n",
    "$$\n",
    "\n",
    "Here the system can become completely unstable if the $S$ value approaches to -1 (pole value of $P$)</p>"
   ]
  },
  {
   "cell_type": "markdown",
   "metadata": {},
   "source": [
    "<h3 style=\"font-family:timesnewroman;font-size:18pt\">Nyquist Stabiltiy Criterion:</h3>"
   ]
  },
  {
   "cell_type": "markdown",
   "metadata": {},
   "source": [
    "<img src = \"nyquist.JPG\">"
   ]
  },
  {
   "cell_type": "markdown",
   "metadata": {},
   "source": [
    "<p style=\"font-family:timesnewroman;font-size:14pt\">If we increase the value of $K$ the curve approaches to -1 and near to -1 the system goes completely unstable.\n",
    "<br>Hence we need to keep our system away from -1 in order to keep it robust.</p>"
   ]
  },
  {
   "cell_type": "markdown",
   "metadata": {},
   "source": [
    "<p style=\"font-family:timesnewroman;font-size:14pt\">\n",
    "$$\n",
    "S = \\frac{1}{1+L}\n",
    "$$\n",
    "So, if our $L$ value closes to -1, the $\\left|S\\right|$ becomes very very big and the system becomes non-robust.<br>\n",
    "Hence we need to keep L away from -1 which is represented by <b>m</b><br>\n",
    "We can say near to $\\omega_c$,\n",
    "$$\n",
    "max \\left|S\\right| = \\frac{1}{m}\n",
    "$$\n",
    "</p>"
   ]
  },
  {
   "cell_type": "markdown",
   "metadata": {},
   "source": [
    "<p style=\"font-family:timesnewroman;font-size:14pt\"><b>Things that can cause our system to get unstable:</b></p>\n",
    " <ul style=\"font-family:timesnewroman;font-size:14pt\"> \n",
    "     <li>Model Uncertainity</li>\n",
    "     <li>Time delays</li>\n",
    "     <li>Right Half Plane zeros in P</li>\n",
    "  </ul>\n",
    "<p style=\"font-family:timesnewroman;font-size:14pt\">\n",
    "Last two are fundamental limits of how small $max \\left|S\\right|$ can be\n",
    "</p>"
   ]
  },
  {
   "cell_type": "markdown",
   "metadata": {},
   "source": [
    "<h3 style=\"font-family:timesnewroman;font-size:14pt\">Issue with inversion of P to determine K:</h3>\n",
    "<p style=\"font-family:timesnewroman;font-size:14pt\">\n",
    "We can not determine K by inversing P if there is any zero or a pole in the right half plane. With an example we can explain why..\n",
    "</p>"
   ]
  },
  {
   "cell_type": "markdown",
   "metadata": {},
   "source": [
    "<p style=\"font-family:timesnewroman;font-size:14pt\"><b>Example:</b><br><br>\n",
    "Let us consider we have a system where,</p>"
   ]
  },
  {
   "cell_type": "markdown",
   "metadata": {},
   "source": [
    "<p style=\"font-family:timesnewroman;font-size:14pt\">\n",
    "$$\n",
    "P = \\frac{S + 10}{S - 5}\n",
    "$$\n",
    "So, K becomes:\n",
    "$$\n",
    "K = \\frac{S - 5}{S + 10}\n",
    "$$\n",
    "So let say our true value of P is:\n",
    "$$\n",
    "P_{true} = \\frac{S + 10}{S - 5 + \\varepsilon}\n",
    "$$\n",
    "$$\n",
    "P_{true}K = \\frac{S - 5}{S - 5 + \\varepsilon}\n",
    "$$\n",
    "</p>"
   ]
  },
  {
   "cell_type": "markdown",
   "metadata": {},
   "source": [
    "<p style=\"font-family:timesnewroman;font-size:14pt\">\n",
    "So we have a zero at $5$ and pole at $5-\\varepsilon$<br>\n",
    "Both are in positive plane. Hence the system is exponentially unstable but we can not identify as the system is not observable.<br>\n",
    "Hence if we have any right half plane zero or pole, the system is not be controllable and observable using inversion technique.\n",
    "</p>"
   ]
  },
  {
   "cell_type": "code",
   "execution_count": 10,
   "metadata": {},
   "outputs": [
    {
     "data": {
      "text/html": [
       "<iframe width=\"560\" height=\"315\" src=\"https://www.youtube.com/embed/7lzH-HnUFZg\" frameborder=\"0\" allow=\"autoplay; encrypted-media\" allowfullscreen></iframe>"
      ],
      "text/plain": [
       "<IPython.core.display.HTML object>"
      ]
     },
     "metadata": {},
     "output_type": "display_data"
    }
   ],
   "source": [
    "%%HTML\n",
    "<iframe width=\"560\" height=\"315\" src=\"https://www.youtube.com/embed/7lzH-HnUFZg\" frameborder=\"0\" allow=\"autoplay; encrypted-media\" allowfullscreen></iframe>"
   ]
  },
  {
   "cell_type": "code",
   "execution_count": 13,
   "metadata": {},
   "outputs": [
    {
     "data": {
      "text/html": [
       "<iframe width=\"560\" height=\"315\" src=\"https://www.youtube.com/embed/ReAmUJMb1d8\" frameborder=\"0\" allow=\"autoplay; encrypted-media\" allowfullscreen></iframe>"
      ],
      "text/plain": [
       "<IPython.core.display.HTML object>"
      ]
     },
     "metadata": {},
     "output_type": "display_data"
    }
   ],
   "source": [
    "%%HTML\n",
    "<iframe width=\"560\" height=\"315\" src=\"https://www.youtube.com/embed/ReAmUJMb1d8\" frameborder=\"0\" allow=\"autoplay; encrypted-media\" allowfullscreen></iframe>"
   ]
  },
  {
   "cell_type": "code",
   "execution_count": 14,
   "metadata": {},
   "outputs": [
    {
     "data": {
      "text/html": [
       "<iframe width=\"560\" height=\"315\" src=\"https://www.youtube.com/embed/G9apWx4iaks\" frameborder=\"0\" allow=\"autoplay; encrypted-media\" allowfullscreen></iframe>"
      ],
      "text/plain": [
       "<IPython.core.display.HTML object>"
      ]
     },
     "metadata": {},
     "output_type": "display_data"
    }
   ],
   "source": [
    "%%HTML\n",
    "<iframe width=\"560\" height=\"315\" src=\"https://www.youtube.com/embed/G9apWx4iaks\" frameborder=\"0\" allow=\"autoplay; encrypted-media\" allowfullscreen></iframe>"
   ]
  }
 ],
 "metadata": {
  "kernelspec": {
   "display_name": "Python 3",
   "language": "python",
   "name": "python3"
  },
  "language_info": {
   "codemirror_mode": {
    "name": "ipython",
    "version": 2
   },
   "file_extension": ".py",
   "mimetype": "text/x-python",
   "name": "python",
   "nbconvert_exporter": "python",
   "pygments_lexer": "ipython2",
   "version": "2.7.14"
  }
 },
 "nbformat": 4,
 "nbformat_minor": 2
}
