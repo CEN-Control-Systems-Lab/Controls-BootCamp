{
 "cells": [
  {
   "cell_type": "markdown",
   "metadata": {},
   "source": [
    "# Linear System and its Representation(Video - 25)"
   ]
  },
  {
   "cell_type": "markdown",
   "metadata": {},
   "source": [
    "<iframe width=\"640\" height=\"360\" src=\"https://www.youtube.com/embed/HasvumXl_vE?list=PLMrJAkhIeNNR20Mz-VpzgfQs5zrYi085m\" frameborder=\"0\" allow=\"autoplay; encrypted-media\" allowfullscreen></iframe>"
   ]
  },
  {
   "cell_type": "markdown",
   "metadata": {},
   "source": [
    "\n",
    "<img src=\"https://github.com/RishishKumar/hello-world/blob/master/TF.jpg?raw=true\" width=\"500\">\n",
    "\n",
    "Laplace transform domain and Transfer Function to assess performance and robustness of closed loop control system.\n",
    "\n",
    "If\n",
    "\n",
    "    u1 --------- y1\n",
    "    u2 --------- y2\n",
    "then\n",
    "\n",
    "    u1 + u2 ------------ y1 + y2\n",
    "\n"
   ]
  },
  {
   "cell_type": "markdown",
   "metadata": {},
   "source": [
    "\n",
    "Three equivalent representation for linear system :-\n",
    "\n",
    "1. State Space\n",
    "\n",
    "\\begin{equation}\n",
    "\\dot{X}=Ax+Bu\n",
    "\\end{equation}\n",
    "\\begin{equation}\n",
    "y=Cx\n",
    "\\end{equation}\n",
    "\n",
    "2. Frequency Domain(Transfer Function)\n",
    "\n",
    "\\begin{equation}\n",
    "G(s)=C(sI-A)^{-1}B\n",
    "\\end{equation}\n",
    "\n",
    "3. Time Domain(Impulse Response)\n",
    "\n",
    "\\begin{equation}\n",
    "y(t)=\\int_{0}^{t} h(t-\\tau)u(\\tau)d\\tau\n",
    "\\end{equation}\n",
    "\n",
    "\n",
    "h(t) ---> Impulse response of the system\n",
    "\n",
    "\n",
    "\\begin{equation}\n",
    "\\mid G(iw)\\mid=A\n",
    "\\end{equation}\n",
    "\n",
    "\\begin{equation}\n",
    "\\angle G(iw)=\\phi\n",
    "\\end{equation}\n",
    "\n",
    "If i/p is a Sine wave of frequency 'w' then for a linear system after transients die out the o/p will also a Sine wave of that exact frequency but it may have smaller or bigger magnitude and it might be phase shifted(lead or lag).\n"
   ]
  },
  {
   "cell_type": "markdown",
   "metadata": {},
   "source": [
    "# Frequency Response (Bode Plot) for Spring-Mass(Video - 26)"
   ]
  },
  {
   "cell_type": "markdown",
   "metadata": {},
   "source": [
    "<iframe width=\"640\" height=\"360\" src=\"https://www.youtube.com/embed/e-8y4MTT7NQ?list=PLMrJAkhIeNNR20Mz-VpzgfQs5zrYi085m\" frameborder=\"0\" allow=\"autoplay; encrypted-media\" allowfullscreen></iframe>"
   ]
  },
  {
   "cell_type": "markdown",
   "metadata": {},
   "source": [
    "<img src=\"https://github.com/RishishKumar/hello-world/blob/master/spring%20mass.png?raw=true\" width=\"300\">\n",
    "\n",
    "\\begin{equation}\n",
    "m\\ddot{X}+d\\dot{X}+kX=u\n",
    "\\end{equation}\n",
    "\n",
    "where u is the external force\n",
    "\n",
    "\\begin{equation}\n",
    "L\\{\\frac{\\text{d}X}{\\text{d}t}\\}=SX(s)-X(0)\n",
    "\\end{equation}\n",
    "\n",
    "for X(0)=0.\n",
    "\n",
    "\\begin{equation}\n",
    "L\\{\\frac{\\text{d}^2X}{\\text{d}t}\\}=S^2X(s)\n",
    "\\end{equation}\n",
    "\n",
    "for m=1, d=1 and k=1:\n",
    "\n",
    "\\begin{equation}\n",
    "\\ddot{X}+\\dot{X}+X=u\n",
    "\\end{equation}\n",
    "\n",
    "Taking Laplace\n",
    "\n",
    "\\begin{equation}\n",
    "S^2\\overline{X}+S\\overline{X}+\\overline{X}=\\overline{u}\n",
    "\\end{equation}\n",
    "\n",
    "\\begin{equation}\n",
    "(S^2+S+1)\\overline{X}=\\overline{u}\n",
    "\\end{equation}\n",
    "\n",
    "\\begin{equation}\n",
    "\\frac{\\overline{X}}{\\overline{u}}=\\frac{1}{S^2+S+1}=G(s)\n",
    "\\end{equation}"
   ]
  },
  {
   "cell_type": "markdown",
   "metadata": {},
   "source": [
    "# Matlab Code"
   ]
  },
  {
   "cell_type": "markdown",
   "metadata": {},
   "source": [
    "s = tf('s')"
   ]
  },
  {
   "cell_type": "markdown",
   "metadata": {},
   "source": [
    "G=1/(s^2+s+1)"
   ]
  },
  {
   "cell_type": "markdown",
   "metadata": {},
   "source": [
    "bode(G)\n",
    "\n",
    "Increase and decrease of damping constant"
   ]
  },
  {
   "cell_type": "markdown",
   "metadata": {},
   "source": [
    "<img src=\"https://github.com/RishishKumar/hello-world/blob/master/bode_plot.jpg?raw=true\" width=\"500\">"
   ]
  },
  {
   "cell_type": "markdown",
   "metadata": {},
   "source": [
    "impulse(G)"
   ]
  },
  {
   "cell_type": "markdown",
   "metadata": {},
   "source": [
    "<img src=\"https://github.com/RishishKumar/hello-world/blob/master/impulse.jpg?raw=true\" width=\"500\">"
   ]
  },
  {
   "cell_type": "markdown",
   "metadata": {},
   "source": [
    "step(G)"
   ]
  },
  {
   "cell_type": "markdown",
   "metadata": {},
   "source": [
    "<img src=\"https://github.com/RishishKumar/hello-world/blob/master/step.jpg?raw=true\" width=\"500\">"
   ]
  }
 ],
 "metadata": {
  "kernelspec": {
   "display_name": "Python 3",
   "language": "python",
   "name": "python3"
  },
  "language_info": {
   "codemirror_mode": {
    "name": "ipython",
    "version": 3
   },
   "file_extension": ".py",
   "mimetype": "text/x-python",
   "name": "python",
   "nbconvert_exporter": "python",
   "pygments_lexer": "ipython3",
   "version": "3.5.1"
  }
 },
 "nbformat": 4,
 "nbformat_minor": 2
}
