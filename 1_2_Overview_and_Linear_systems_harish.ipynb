{
 "cells": [
  {
   "cell_type": "markdown",
   "metadata": {},
   "source": [
    "## Harish T"
   ]
  },
  {
   "cell_type": "markdown",
   "metadata": {},
   "source": [
    "# Roll No. CB.EN.P2AEL17008"
   ]
  },
  {
   "cell_type": "markdown",
   "metadata": {},
   "source": [
    "# Control Bootcamp - Overview and Linear systems (Videos 1 & 2)"
   ]
  },
  {
   "cell_type": "markdown",
   "metadata": {},
   "source": [
    "# Modern control theory and State Space Analysis"
   ]
  },
  {
   "cell_type": "markdown",
   "metadata": {},
   "source": [
    "This lecture is about the perspective of dynamical systems, sequence of ordinary differential equations in terms of the state of your system. This is been an extremely successful pheonomeon for modelling real world phenomenon.We model the fluid flow over a wing or the population dynamics in a city, or a spread of a discease or stock market, climate, planets moving around the solar system. All these can be modelled as dynamical system. This is a frame work to model to take in data from the real world and build models which we can use for prediction. Often we want to go beyond describing the system of interest, actually manipulate the system actively to change its behavior. That could be just imposing some controller or just setting inputs into the system in a certain pre-planned way to manipulate it or you can actuallt measure that system and make decisions based on how the system is responding to what you do. We can take an example of a dynamic system pendulam or a crane, you want to make more stable. We write down the system of equations and then we design some control policy that changes the behavior of the system to be more desirable."
   ]
  },
  {
   "cell_type": "markdown",
   "metadata": {},
   "source": [
    "Variours types of controls systems. They are lots of controls that take place everyday. \n",
    "\n",
    "1. Passive Control Systems\n",
    "\n",
    "2. Active Control Systems\n",
    "    * Open-loop control systems\n",
    "    \n",
    "    * Closed-loop control systems"
   ]
  },
  {
   "cell_type": "markdown",
   "metadata": {},
   "source": [
    "<b>1) Passive control: "
   ]
  },
  {
   "cell_type": "markdown",
   "metadata": {},
   "source": [
    "In passive control, we just have to design an upfront and there is no need to give energy in controlling. \n",
    "\n",
    "Example: \n",
    "\n",
    "If we see a large 18 wheeler truck going down the highway and it has the streamlined tale section. Its passively causing the air around the truck to behave in a favourable way to reduce drag. In passive control, we just have to design an upfront and there is no need to give energy in controlling. But passive control is typically not enough. And so often times we need to do something like active control."
   ]
  },
  {
   "cell_type": "markdown",
   "metadata": {},
   "source": [
    "<b>2) Active control: "
   ]
  },
  {
   "cell_type": "markdown",
   "metadata": {},
   "source": [
    "\n",
    "Active control is like pumping energy into the system to actively manipulate its behavior. There are various types of active control systems. "
   ]
  },
  {
   "cell_type": "markdown",
   "metadata": {},
   "source": [
    "<b>i) Open loop systems: "
   ]
  },
  {
   "cell_type": "markdown",
   "metadata": {},
   "source": [
    "This is probably the most common form of active control where essentially we have our system of interest. \n",
    "\n",
    "![openloop control system](openloop control system.PNG)\n",
    "\n",
    "We have some system, the system has some inputs (variable u), and has some outputs (variable y). What the open loop controller does is it essentially reverse designs your system and inverts the dynamics to figure out exactly what is the perfect input 'u' to get the desired output 'y'."
   ]
  },
  {
   "cell_type": "markdown",
   "metadata": {},
   "source": [
    "Example: "
   ]
  },
  {
   "cell_type": "markdown",
   "metadata": {},
   "source": [
    "In case of inverted pendulum we trying to make it stablize on our hands. In open loop control, to make the inverted pendulum stablized, we need to continously supply energy to base."
   ]
  },
  {
   "cell_type": "markdown",
   "metadata": {},
   "source": [
    " <b>ii) Closed Loop systems:"
   ]
  },
  {
   "cell_type": "markdown",
   "metadata": {},
   "source": [
    "![closed loop control system](closed loop control system.PNG)\n",
    "\n",
    "In closed loop systems, we take sensors to measure what the system is actually doing and somehow we build a controller and we feed that back into our input signal and we can manipulate the system.  In case of inverted pendulam, as a human we can measure with our eyes if it is starting to wobble, then by controling through we can stablize the pendulam"
   ]
  },
  {
   "cell_type": "markdown",
   "metadata": {},
   "source": [
    "<b>Why feedback?"
   ]
  },
  {
   "cell_type": "markdown",
   "metadata": {},
   "source": [
    "\n",
    "This is a very very important topic in control theory."
   ]
  },
  {
   "cell_type": "markdown",
   "metadata": {},
   "source": [
    "<b>i) Uncertainity: "
   ]
  },
  {
   "cell_type": "markdown",
   "metadata": {},
   "source": [
    "May be the our system has some inherent 'Uncertainity'. This is one of the main enemies of open loop control. In case of pendulum, when we perfectly pre-plan what we want to do. If our system has some uncertainity like the length of the pendulam is little bit longer or little bit heavier or there is wind blowing. Because of these uncertainities our pre planned trajectories will be changed. Then if we have a feedback mechanism, even if the controller output is not matching with our expectations, we can manipulate its input to change the output accordingly."
   ]
  },
  {
   "cell_type": "markdown",
   "metadata": {},
   "source": [
    "<b> ii) Instability:"
   ]
  },
  {
   "cell_type": "markdown",
   "metadata": {},
   "source": [
    "With open loop control, I cannot fundamentally change the behavior of system itself. In case of inverted pendulum we can pump in energy in terms of sinusoidal base motion, that will force the system to take correct itself to align with vertical. Here we are not actually changing the system's dynamics itself. The system still itself is in unstable and has an unstable eigen values. When we have feedback control, I can directly manipulate the actual dynamics of this closed loop system and I can change the dynamic properties(eigen values) of the system"
   ]
  },
  {
   "cell_type": "markdown",
   "metadata": {},
   "source": [
    "<b>iii) Disturbances: "
   ]
  },
  {
   "cell_type": "markdown",
   "metadata": {},
   "source": [
    "In case of our pendulum, the wind is the disturbance. If we have open loop strategy, essentially that might not be able to adjust to the wind where as in closed loop system, the air will flow through the system and measured through sensor so that we can actually take appropriate action to make the syste stable. Uncertainity is the internal disturbances of the system where as the Disturbances are external to it. "
   ]
  },
  {
   "cell_type": "markdown",
   "metadata": {},
   "source": [
    "<b>iv) Efficiency:"
   ]
  },
  {
   "cell_type": "markdown",
   "metadata": {},
   "source": [
    "Effective sensor based feedback control is also much more efficient. Because we don't need to pump energy continously as in open loop control. Whenever sensor detect deviation only we need to pump energy to the system. This is more efficient way."
   ]
  },
  {
   "cell_type": "markdown",
   "metadata": {},
   "source": [
    "# State Space Analysis"
   ]
  },
  {
   "cell_type": "markdown",
   "metadata": {},
   "source": [
    "The basic system of equations we are going to use state space system of equations. "
   ]
  },
  {
   "cell_type": "markdown",
   "metadata": {},
   "source": [
    "\n",
    "We are going to have a state variable 'X'. 'X' is a vector that describles all of the quantities of interests in my system. In case of pendulam, angular velocity and angle are quantities of interest.\n",
    "\n",
    "<center>$\\dot{X}=AX$\n"
   ]
  },
  {
   "cell_type": "markdown",
   "metadata": {},
   "source": [
    "We are going to start with a linear systems of equations that describe how those states will act with each other.\n",
    "<br><br><center>$\\dot X = AX + Bu$ -------(1)<br>"
   ]
  },
  {
   "cell_type": "markdown",
   "metadata": {},
   "source": [
    "Here 'u' is the control we do to make the system stablise. Its just like a control knob. In case of controlling the motor speed we change the voltage input to the system. And 'B' tells you how the control knob that directly controls the time rate of change of my state. \n",
    "\n",
    "And in some cases we are going to measure only certain aspects of the state, some linear combination of the state of 'X'. This is a limited set of measurements. We might not measure all of the states. We might only have access to those limited sensor measurements.\n",
    "\n",
    "<br><center> $y = CX$ <br>"
   ]
  },
  {
   "cell_type": "markdown",
   "metadata": {},
   "source": [
    "Here we are going to talk about only equation(1) for our analysis. Here we are going to design a controller u = -Kx \n",
    "![State Space equations](State Space equations.PNG)"
   ]
  },
  {
   "cell_type": "markdown",
   "metadata": {},
   "source": [
    "<br><center> $\\dot X = AX+Bu$\n",
    "<br><center> $\\dot X = AX - BKX$\n",
    "<br><center> $\\dot X = (A-BK)X$ "
   ]
  },
  {
   "cell_type": "markdown",
   "metadata": {},
   "source": [
    "Here we are going to look at how to analyse and solve the system of linear differential equations and also going to talk about how do u get this linear system of equation from non-linear system of equations."
   ]
  },
  {
   "cell_type": "markdown",
   "metadata": {},
   "source": [
    "Equation of a System \n",
    "<br><center> $ \\dot X = AX , X \\epsilon R^n $</center><br>"
   ]
  },
  {
   "cell_type": "markdown",
   "metadata": {},
   "source": [
    "Solution of the system\n",
    "<br><br><center> $X(t) = e^{At}X(0)$"
   ]
  },
  {
   "cell_type": "markdown",
   "metadata": {},
   "source": [
    "Taylor series expansion of $e^At$:\n",
    "</center><br><br><br><center>$e^At = I + At+ \\frac{A^2t^2}{2!}+\\frac{A^3t^3}{3!}+...$</center><br>\n",
    "\n",
    "The above computation is not practical.\n",
    "\n",
    "Instead of the above computation, we use eigen values and eigen vectors of matrix 'A' to get a coordinate transformation from X to some eigen vector coordinates which will make easier."
   ]
  },
  {
   "cell_type": "markdown",
   "metadata": {},
   "source": [
    "Eigen values and Eigen Vectors:\n",
    "<br><br><center>$AE = \\lambda E$<br><br>\n",
    "where $E$ is eigen vector and $\\lambda$ is Eigen Value matrices.\n",
    "This is not true for any of the vector of E"
   ]
  },
  {
   "cell_type": "markdown",
   "metadata": {},
   "source": [
    "There are special vectors E if we multiply by A. \n",
    "<br><br><center>$T = \\begin{bmatrix}\\ E_1 & E_2 & E_3 & ...& E_n \\\\ \\end{bmatrix}$</center>\n",
    "<br><br><center> $D = \\begin{bmatrix}\\lambda_1 & 0 & ...&0 \\\\0 &\\lambda_2 & ... & 0 \\\\ \\vdots & \\vdots &\\ddots &\\vdots\\\\  0 & 0&... &\\lambda_n  \\end{bmatrix}$</center> "
   ]
  },
  {
   "cell_type": "markdown",
   "metadata": {},
   "source": [
    "There is a fundamental relation \n",
    "<br><br><center> <b> $AT = TD$<br>"
   ]
  },
  {
   "cell_type": "markdown",
   "metadata": {},
   "source": [
    "Why do I want to represent my system in another coordinates?\n",
    "Instead of writing in X coordinates, I can rotate and map X into different cooridnates system to make it simpler\n",
    "<br><br> <center> $ X = Tz$</center><br><br>"
   ]
  },
  {
   "cell_type": "markdown",
   "metadata": {},
   "source": [
    "we know \n",
    "<br><center>$T^{-1}AT = D$ <br>\n",
    "<br><center> $\\dot X = T\\dot z = AX$</center>\n",
    "<br><center>$T\\dot z = ATz$<br><br>\n",
    "$\\dot z = T^{-1}ATz$<br>\n",
    "<br> <center> $\\dot z = Dz$ <br>\n",
    "<br>Solution of the above equation is<br>\n",
    "<br><center>$z(t) = e^{Dt}*z(0)$<br>\n",
    "<br> <center> $ A= TDT^{-1}$</center><br>\n",
    "It is simple to see the system dynamics if the system equation is broken down into eigen values and eigen vectors<br>\n",
    "<br><center>$e^{At} = e^{TDT^{-1}} = TT^{-1}+TDT^{-1}+ (TDT^{-1}TDT^{-1})\\frac{t^2}{2!}+... = Te^{Dt}T^{-1}$<br>\n",
    "<br><center>$\\begin{equation}X(t) = Te^{Dt}T^{-1}X(0)\\end{equation}$"
   ]
  },
  {
   "cell_type": "markdown",
   "metadata": {},
   "source": [
    "Videos link\n",
    "\n",
    "video 1 - https://www.youtube.com/watch?v=Pi7l8mMjYVE&list=PLMrJAkhIeNNR20Mz-VpzgfQs5zrYi085m <br>\n",
    "video 2 - https://www.youtube.com/watch?v=nyqJJdhReiA&index=2&list=PLMrJAkhIeNNR20Mz-VpzgfQs5zrYi085m"
   ]
  },
  {
   "cell_type": "code",
   "execution_count": null,
   "metadata": {},
   "outputs": [],
   "source": []
  },
  {
   "cell_type": "code",
   "execution_count": null,
   "metadata": {
    "collapsed": true
   },
   "outputs": [],
   "source": []
  }
 ],
 "metadata": {
  "kernelspec": {
   "display_name": "Python 3",
   "language": "python",
   "name": "python3"
  },
  "language_info": {
   "codemirror_mode": {
    "name": "ipython",
    "version": 3
   },
   "file_extension": ".py",
   "mimetype": "text/x-python",
   "name": "python",
   "nbconvert_exporter": "python",
   "pygments_lexer": "ipython3",
   "version": "3.6.2"
  }
 },
 "nbformat": 4,
 "nbformat_minor": 2
}
